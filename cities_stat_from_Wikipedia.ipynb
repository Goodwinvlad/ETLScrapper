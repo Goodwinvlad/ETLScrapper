{
 "cells": [
  {
   "cell_type": "code",
   "execution_count": null,
   "id": "a9c604f1",
   "metadata": {},
   "outputs": [],
   "source": [
    "import requests\n",
    "from bs4 import BeautifulSoup\n",
    "import pandas as pd\n",
    "from pandas import DataFrame\n",
    "import re\n",
    "from datetime import datetime\n",
    "import time\n",
    "import psycopg2\n",
    "from typing import List, Union\n",
    "\n",
    "import sys\n",
    "import warnings\n",
    "if not sys.warnoptions:\n",
    "       warnings.simplefilter(\"ignore\")\n",
    "\n",
    "from sqlalchemy import create_engine"
   ]
  },
  {
   "cell_type": "code",
   "execution_count": null,
   "id": "b4e7e1a0",
   "metadata": {},
   "outputs": [],
   "source": [
    "# a list of required cities\n",
    "\n",
    "list_city = ['Москва','Санкт-Петербург','Омск','Тимашёвск', 'Хельсинки', 'Икаалинен',  'Учкудук', 'Янгиабад']"
   ]
  },
  {
   "cell_type": "code",
   "execution_count": null,
   "id": "07a9a003",
   "metadata": {},
   "outputs": [],
   "source": [
    "# a list of required values of city (columns)\n",
    "list_headers = ['Город', 'Страна', 'Основан', 'Тип климата', 'Часовой пояс', \n",
    "                'Население','Телефонный код', 'Почтовые индексы']\n"
   ]
  },
  {
   "cell_type": "code",
   "execution_count": null,
   "id": "261b29dc",
   "metadata": {},
   "outputs": [],
   "source": [
    "#scraing wiki common data for each city \n",
    "def extract_data(city: int) -> List[str]:\n",
    "    wiki = 'https://ru.wikipedia.org/wiki/{}'\n",
    "    website_url = requests.get(wiki.format(list_city[city])).text\n",
    "    soup = BeautifulSoup(website_url,'lxml')\n",
    "    table = soup.find('table',{'class':'infobox'})\n",
    "\n",
    "    headers = []\n",
    "\n",
    "    data_headers = table.find_all('tr')\n",
    "\n",
    "    list_headers_fix = ['Город', 'Страна', 'Основан', 'Тип климата', 'Часовой пояс', \n",
    "                'Население','Телефонный код', 'Почтовые индексы', 'Почтовый индекс']\n",
    "    for header in data_headers:\n",
    "        value_1 = header.find_all('th')\n",
    "        value_2 = header.find_all('td')\n",
    "        beautified_value_1 = [ele.text.strip() for ele in value_1]\n",
    "        beautified_value_2 = [ele.text.strip() for ele in value_2]\n",
    "        # Remove data arrays that are empty\n",
    "        if len(beautified_value_1) == 0 or len(beautified_value_2) == 0:\n",
    "            continue    \n",
    "        headers.append(beautified_value_1)\n",
    "        headers.append(beautified_value_2)\n",
    "\n",
    "                \n",
    "        headers_new = [elem for row in headers for elem in row]        \n",
    "\n",
    "        final_list = []\n",
    "        for elem in list_headers_fix:\n",
    "             if elem in headers_new:\n",
    "                    k = headers_new.index(elem)\n",
    "                    final_list.append(elem)\n",
    "                    final_list.append(headers_new[k+1])\n",
    "        final_list.insert(0, list_city[city%len(list_city)])\n",
    "    return final_list"
   ]
  },
  {
   "cell_type": "code",
   "execution_count": null,
   "id": "a4db8344",
   "metadata": {},
   "outputs": [],
   "source": [
    "#filter required columns\n",
    "def city_info(final_list: List[str]) -> List[str]:\n",
    "\n",
    "    list = {0:'',1:'',2:'',3:'',4:'',5:'',6:'',7:''}\n",
    "    \n",
    "    for i, value in enumerate(final_list):\n",
    "        if value == 'Почтовый индекс':\n",
    "            final_list[i] = 'Почтовые индексы'\n",
    "\n",
    "    list[0] = final_list[0]\n",
    "    for i in range(1, len(final_list)):\n",
    "        if final_list[i] in list_headers: list[list_headers.index(final_list[i])] = final_list[i+1]\n",
    "    result = [list[key] for key in list]\n",
    "           \n",
    "    return result\n",
    "   \n",
    "    "
   ]
  },
  {
   "cell_type": "code",
   "execution_count": null,
   "id": "e824e1e1",
   "metadata": {},
   "outputs": [],
   "source": [
    "# function for making format of city index \n",
    "def get_city_index(row: str) -> Union[str, None]:\n",
    "    if re.search('х', row): result = row.replace(\"х\", \"0\")+\"—\"+row.replace(\"х\", \"9\") \n",
    "    elif re.search('x', row): result = row.replace(\"x\", \"0\")+\"—\"+row.replace(\"x\", \"9\")  \n",
    "    else: result = row.replace(\"[7]\", \"\")\n",
    "    return(result)"
   ]
  },
  {
   "cell_type": "code",
   "execution_count": null,
   "id": "30790b41",
   "metadata": {},
   "outputs": [],
   "source": [
    "#create a DataFrame\n",
    "\n",
    "city_df = pd.DataFrame(columns=list_headers)\n",
    "\n",
    "for i in range(len(list_city)): \n",
    "    data = city_info(extract_data(i))\n",
    "    city_df.loc[len(city_df.index)] = data \n",
    "    "
   ]
  },
  {
   "cell_type": "code",
   "execution_count": null,
   "id": "86f492be",
   "metadata": {},
   "outputs": [],
   "source": [
    "def get_format_table(city_df: pd.DataFrame) -> pd.DataFrame:\n",
    "    \n",
    "        #convert data to normal format\n",
    "\n",
    "        city_df['Основан'] = (city_df['Основан'].apply(lambda x: re.sub(\"[^0-9]\",\"\", x)[-4:]))\n",
    "        city_df['Часовой пояс'] = (city_df['Часовой пояс'].apply(lambda x: re.sub(\"[^0-9]\",\"\", x)[-3:-2]))\n",
    "        city_df['Население'] = (city_df['Население'].apply(lambda x: re.sub(\"[^0-9]\",\"\", x)[:-5]))\n",
    "        city_df['Почтовые индексы'] = (city_df['Почтовые индексы'].apply(lambda x: get_city_index(x)))\n",
    "\n",
    "\n",
    "        #adding date and timestamp columns\n",
    "\n",
    "        city_df = city_df.assign(Date = datetime.now().date())\n",
    "        city_df = city_df.assign(Timestamp = time.time()) #pd.Timestamp(a, unit='s')\n",
    "\n",
    "\n",
    "        #columns naming\n",
    "\n",
    "        city_df = city_df.rename(columns={'Город': 'city',\n",
    "                                        'Страна': 'Country',\n",
    "                                        'Основан': 'Founded',\n",
    "                                        'Тип климата': 'Climate',\n",
    "                                        'Часовой пояс': 'UTC',\n",
    "                                        'Население': 'Population',\n",
    "                                        'Телефонный код': 'Phonecode',\n",
    "                                        'Почтовые индексы': 'Postcode'\n",
    "                                       })\n",
    "\n",
    "\n",
    "        # type changing\n",
    "        try:\n",
    "            #city_df.Founded = city_df.Founded.astype('int') \n",
    "            city_df.UTC = city_df.UTC.astype('int') \n",
    "            city_df.Population = city_df.Population.astype('int')\n",
    "            city_df.Date = pd.to_datetime(city_df.Date)\n",
    "        except Exception as error:\n",
    "            print(error)\n",
    "            \n",
    "        return city_df"
   ]
  },
  {
   "cell_type": "code",
   "execution_count": null,
   "id": "ee720238",
   "metadata": {
    "scrolled": true
   },
   "outputs": [],
   "source": [
    "get_format_table(city_df)"
   ]
  },
  {
   "cell_type": "markdown",
   "id": "8e5a5187",
   "metadata": {},
   "source": [
    "#### Connecting to PostgreSQL Database using SQLAlchemy in Python"
   ]
  },
  {
   "cell_type": "code",
   "execution_count": null,
   "id": "338b68d9",
   "metadata": {},
   "outputs": [],
   "source": [
    "# DEFINE THE DATABASE CREDENTIALS\n",
    "user = 'postgres'\n",
    "password = '123456'\n",
    "host = 'localhost'\n",
    "port = 5432\n",
    "database = 'db_test'"
   ]
  },
  {
   "cell_type": "code",
   "execution_count": null,
   "id": "f900c672",
   "metadata": {},
   "outputs": [],
   "source": [
    "# CONNECTION TO DB\n",
    "try:\n",
    "    con = psycopg2.connect (\n",
    "        host = host,\n",
    "        dbname = database,\n",
    "        user = user,\n",
    "        password = password,\n",
    "        port = port)\n",
    "    #con.close()\n",
    "except Exception as error:\n",
    "    print(error)\n",
    "    \n",
    "cur = con.cursor()\n",
    "# cur = con.cursor(cursor_factory = psycopg2.extras.DictCursor\n",
    "# con.commit()"
   ]
  },
  {
   "cell_type": "code",
   "execution_count": null,
   "id": "e6e7b4b7",
   "metadata": {},
   "outputs": [],
   "source": [
    "# PYTHON FUNCTION TO CONNECT TO THE POSTGRESQL DATABASE AND\n",
    "# RETURN THE SQLACHEMY ENGINE OBJECT\n",
    "def get_connection():\n",
    "    return create_engine(\n",
    "        url=\"postgresql://{0}:{1}@{2}:{3}/{4}\".format(\n",
    "            user, password, host, port, database\n",
    "        )\n",
    "    )\n",
    " "
   ]
  },
  {
   "cell_type": "code",
   "execution_count": null,
   "id": "19337b0d",
   "metadata": {},
   "outputs": [],
   "source": [
    "if __name__ == '__main__':\n",
    " \n",
    "    try:\n",
    "        # GET THE CONNECTION OBJECT (ENGINE) FOR THE DATABASE\n",
    "        engine = get_connection()\n",
    "        print(\n",
    "            f\"Connection to the {host} for user {user} created successfully.\")\n",
    "    except Exception as ex:\n",
    "        print(\"Connection could not be made due to the following error: \\n\", ex)"
   ]
  },
  {
   "cell_type": "code",
   "execution_count": null,
   "id": "b9c7fdd9",
   "metadata": {},
   "outputs": [],
   "source": [
    "# download postgresql table\n",
    "data = city_df\n",
    "data.to_sql('wiki_city', engine, if_exists='replace')"
   ]
  },
  {
   "cell_type": "code",
   "execution_count": null,
   "id": "6e1a9da1",
   "metadata": {},
   "outputs": [],
   "source": []
  },
  {
   "cell_type": "markdown",
   "id": "1a139b23",
   "metadata": {},
   "source": [
    "#### Data from Postgres and display Python"
   ]
  },
  {
   "cell_type": "code",
   "execution_count": null,
   "id": "973f1ec8",
   "metadata": {},
   "outputs": [],
   "source": [
    "query = 'SELECT * FROM wiki_city'\n",
    "df_postgres = pd.read_sql(query, con = con)\n"
   ]
  },
  {
   "cell_type": "code",
   "execution_count": null,
   "id": "c61e1304",
   "metadata": {},
   "outputs": [],
   "source": [
    "df_postgres.drop(columns=['index'], inplace=True)"
   ]
  },
  {
   "cell_type": "code",
   "execution_count": null,
   "id": "b0078931",
   "metadata": {},
   "outputs": [],
   "source": [
    "df_postgres"
   ]
  },
  {
   "cell_type": "code",
   "execution_count": null,
   "id": "e0e4d6b0",
   "metadata": {},
   "outputs": [],
   "source": []
  }
 ],
 "metadata": {
  "kernelspec": {
   "display_name": "Python 3 (ipykernel)",
   "language": "python",
   "name": "python3"
  },
  "language_info": {
   "codemirror_mode": {
    "name": "ipython",
    "version": 3
   },
   "file_extension": ".py",
   "mimetype": "text/x-python",
   "name": "python",
   "nbconvert_exporter": "python",
   "pygments_lexer": "ipython3",
   "version": "3.10.9"
  }
 },
 "nbformat": 4,
 "nbformat_minor": 5
}
