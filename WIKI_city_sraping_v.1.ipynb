{
 "cells": [
  {
   "cell_type": "code",
   "execution_count": 15,
   "id": "a9c604f1",
   "metadata": {},
   "outputs": [],
   "source": [
    "import requests\n",
    "from bs4 import BeautifulSoup\n",
    "import pandas as pd\n",
    "import re\n",
    "from datetime import datetime\n",
    "import time\n",
    "import psycopg2\n",
    "\n",
    "from sqlalchemy import create_engine"
   ]
  },
  {
   "cell_type": "code",
   "execution_count": 27,
   "id": "c09739e8",
   "metadata": {},
   "outputs": [],
   "source": [
    "# a list of required cities\n",
    "\n",
    "list_city = ['Москва','Санкт-Петербург','Омск','Тимашёвск', 'Хельсинки', 'Икаалинен',  'Учкудук', 'Янгиабад']"
   ]
  },
  {
   "cell_type": "code",
   "execution_count": 28,
   "id": "07a9a003",
   "metadata": {},
   "outputs": [],
   "source": [
    "# a list of required values of city (columns)\n",
    "list_headers = ['Город', 'Страна', 'Основан', 'Тип климата', 'Часовой пояс', \n",
    "                'Население','Телефонный код', 'Почтовые индексы']\n"
   ]
  },
  {
   "cell_type": "code",
   "execution_count": 30,
   "id": "261b29dc",
   "metadata": {},
   "outputs": [],
   "source": [
    "#scraing wiki common data for each city \n",
    "def wiki_info(city):\n",
    "    wiki = 'https://ru.wikipedia.org/wiki/{}'\n",
    "    website_url = requests.get(wiki.format(list_city[city])).text\n",
    "    soup = BeautifulSoup(website_url,'lxml')\n",
    "    table = soup.find('table',{'class':'infobox'})\n",
    "\n",
    "    headers = []\n",
    "\n",
    "    data_headers = table.find_all('tr')\n",
    "\n",
    "    list_headers_fix = ['Город', 'Страна', 'Основан', 'Тип климата', 'Часовой пояс', \n",
    "                'Население','Телефонный код', 'Почтовые индексы', 'Почтовый индекс']\n",
    "    for header in data_headers:\n",
    "        value_1 = header.find_all('th')\n",
    "        value_2 = header.find_all('td')\n",
    "        beautified_value_1 = [ele.text.strip() for ele in value_1]\n",
    "        beautified_value_2 = [ele.text.strip() for ele in value_2]\n",
    "        # Remove data arrays that are empty\n",
    "        if len(beautified_value_1) == 0 or len(beautified_value_2) == 0:\n",
    "            continue    \n",
    "        headers.append(beautified_value_1)\n",
    "        headers.append(beautified_value_2)\n",
    "\n",
    "        headers_new = []\n",
    "        for row in headers:\n",
    "             for elem in row:\n",
    "                headers_new.append(elem) \n",
    "\n",
    "        final_list = []\n",
    "        for elem in list_headers_fix:\n",
    "             if elem in headers_new:\n",
    "                    k = headers_new.index(elem)\n",
    "                    final_list.append(elem)\n",
    "                    final_list.append(headers_new[k+1])\n",
    "        final_list.insert(0, list_city[city%len(list_city)])\n",
    "    return final_list"
   ]
  },
  {
   "cell_type": "code",
   "execution_count": 31,
   "id": "a4db8344",
   "metadata": {},
   "outputs": [],
   "source": [
    "#filter required columns\n",
    "def city_info(final_list):\n",
    "\n",
    "    list = {0:'',1:'',2:'',3:'',4:'',5:'',6:'',7:''}\n",
    "    \n",
    "    for i, value in enumerate(final_list):\n",
    "        if value == 'Почтовый индекс':\n",
    "            final_list[i] = 'Почтовые индексы'\n",
    "\n",
    "    list[0] = final_list[0]\n",
    "    for i in range(1, len(final_list)):\n",
    "        if final_list[i] in list_headers: list[list_headers.index(final_list[i])] = final_list[i+1]\n",
    "    result = [list[key] for key in list]\n",
    "           \n",
    "    return result\n",
    "   \n",
    "    "
   ]
  },
  {
   "cell_type": "code",
   "execution_count": 32,
   "id": "86f492be",
   "metadata": {},
   "outputs": [],
   "source": [
    "#create a DataFrame\n",
    "\n",
    "city_df = pd.DataFrame(columns=list_headers)\n",
    "\n",
    "for i in range(len(list_city)): \n",
    "    data = city_info(wiki_info(i))\n",
    "    city_df.loc[len(city_df.index)] = data "
   ]
  },
  {
   "cell_type": "code",
   "execution_count": 33,
   "id": "3b997017",
   "metadata": {},
   "outputs": [],
   "source": [
    "# function for making format of city index \n",
    "def xxx(row):\n",
    "    if re.search('х', row): result = row.replace(\"х\", \"0\")+\"—\"+row.replace(\"х\", \"9\") \n",
    "    elif re.search('x', row): result = row.replace(\"x\", \"0\")+\"—\"+row.replace(\"x\", \"9\")  \n",
    "    else: result = row.replace(\"[7]\", \"\")\n",
    "    return(result)"
   ]
  },
  {
   "cell_type": "code",
   "execution_count": 34,
   "id": "cad1ec10",
   "metadata": {},
   "outputs": [],
   "source": [
    "#convert data to normal format\n",
    "\n",
    "city_df['Основан'] = (city_df['Основан'].apply(lambda x: re.sub(\"[^0-9]\",\"\", x)[-4:]))\n",
    "city_df['Часовой пояс'] = (city_df['Часовой пояс'].apply(lambda x: re.sub(\"[^0-9]\",\"\", x)[-3:-2]))\n",
    "city_df['Население'] = (city_df['Население'].apply(lambda x: re.sub(\"[^0-9]\",\"\", x)[:-5]))\n",
    "city_df['Почтовые индексы'] = (city_df['Почтовые индексы'].apply(lambda x: xxx(x)))\n"
   ]
  },
  {
   "cell_type": "code",
   "execution_count": 35,
   "id": "9c5ad6a7",
   "metadata": {},
   "outputs": [],
   "source": [
    "#adding date and timestamp columns\n",
    "\n",
    "city_df = city_df.assign(Date = datetime.now().date())\n",
    "city_df = city_df.assign(Timestamp = time.time()) #pd.Timestamp(a, unit='s')"
   ]
  },
  {
   "cell_type": "code",
   "execution_count": 36,
   "id": "e7925e8b",
   "metadata": {},
   "outputs": [],
   "source": [
    "#columns naming\n",
    "\n",
    "city_df = city_df.rename(columns={'Город': 'city',\n",
    "                                'Страна': 'Country',\n",
    "                                'Основан': 'Founded',\n",
    "                                'Тип климата': 'Climate',\n",
    "                                'Часовой пояс': 'UTC',\n",
    "                                'Население': 'Population',\n",
    "                                'Телефонный код': 'Phonecode',\n",
    "                                'Почтовые индексы': 'Postcode'\n",
    "                               })\n"
   ]
  },
  {
   "cell_type": "code",
   "execution_count": 37,
   "id": "4c2b7753",
   "metadata": {},
   "outputs": [],
   "source": [
    "# type changing\n",
    "try:\n",
    "    #city_df.Founded = city_df.Founded.astype('int') \n",
    "    city_df.UTC = city_df.UTC.astype('int') \n",
    "    city_df.Population = city_df.Population.astype('int')\n",
    "    city_df.Date = pd.to_datetime(city_df.Date)\n",
    "except Exception as error:\n",
    "    print(error)"
   ]
  },
  {
   "cell_type": "code",
   "execution_count": 38,
   "id": "c8e5def4",
   "metadata": {},
   "outputs": [
    {
     "data": {
      "text/html": [
       "<div>\n",
       "<style scoped>\n",
       "    .dataframe tbody tr th:only-of-type {\n",
       "        vertical-align: middle;\n",
       "    }\n",
       "\n",
       "    .dataframe tbody tr th {\n",
       "        vertical-align: top;\n",
       "    }\n",
       "\n",
       "    .dataframe thead th {\n",
       "        text-align: right;\n",
       "    }\n",
       "</style>\n",
       "<table border=\"1\" class=\"dataframe\">\n",
       "  <thead>\n",
       "    <tr style=\"text-align: right;\">\n",
       "      <th></th>\n",
       "      <th>city</th>\n",
       "      <th>Country</th>\n",
       "      <th>Founded</th>\n",
       "      <th>Climate</th>\n",
       "      <th>UTC</th>\n",
       "      <th>Population</th>\n",
       "      <th>Phonecode</th>\n",
       "      <th>Postcode</th>\n",
       "      <th>Date</th>\n",
       "      <th>Timestamp</th>\n",
       "    </tr>\n",
       "  </thead>\n",
       "  <tbody>\n",
       "    <tr>\n",
       "      <th>0</th>\n",
       "      <td>Москва</td>\n",
       "      <td>Россия</td>\n",
       "      <td>1147</td>\n",
       "      <td>умеренно континентальный</td>\n",
       "      <td>3</td>\n",
       "      <td>13097539</td>\n",
       "      <td>+7 495, 499</td>\n",
       "      <td>101000—135999</td>\n",
       "      <td>2023-04-16</td>\n",
       "      <td>1.681633e+09</td>\n",
       "    </tr>\n",
       "    <tr>\n",
       "      <th>1</th>\n",
       "      <td>Санкт-Петербург</td>\n",
       "      <td>Россия</td>\n",
       "      <td>1703</td>\n",
       "      <td>умеренный морской</td>\n",
       "      <td>3</td>\n",
       "      <td>5598486</td>\n",
       "      <td>+7 812</td>\n",
       "      <td>190000—199406.</td>\n",
       "      <td>2023-04-16</td>\n",
       "      <td>1.681633e+09</td>\n",
       "    </tr>\n",
       "    <tr>\n",
       "      <th>2</th>\n",
       "      <td>Омск</td>\n",
       "      <td>Россия</td>\n",
       "      <td>1716</td>\n",
       "      <td>континентальный</td>\n",
       "      <td>6</td>\n",
       "      <td>1125695</td>\n",
       "      <td>+7 3812</td>\n",
       "      <td>644000—644999</td>\n",
       "      <td>2023-04-16</td>\n",
       "      <td>1.681633e+09</td>\n",
       "    </tr>\n",
       "    <tr>\n",
       "      <th>3</th>\n",
       "      <td>Тимашёвск</td>\n",
       "      <td>Россия</td>\n",
       "      <td>1794</td>\n",
       "      <td>умеренный</td>\n",
       "      <td>3</td>\n",
       "      <td>51858</td>\n",
       "      <td>+7 86130</td>\n",
       "      <td>352700—352799</td>\n",
       "      <td>2023-04-16</td>\n",
       "      <td>1.681633e+09</td>\n",
       "    </tr>\n",
       "    <tr>\n",
       "      <th>4</th>\n",
       "      <td>Хельсинки</td>\n",
       "      <td>Финляндия</td>\n",
       "      <td>1550</td>\n",
       "      <td></td>\n",
       "      <td>3</td>\n",
       "      <td>656611</td>\n",
       "      <td>+358 9</td>\n",
       "      <td></td>\n",
       "      <td>2023-04-16</td>\n",
       "      <td>1.681633e+09</td>\n",
       "    </tr>\n",
       "    <tr>\n",
       "      <th>5</th>\n",
       "      <td>Икаалинен</td>\n",
       "      <td>Финляндия</td>\n",
       "      <td>1641</td>\n",
       "      <td></td>\n",
       "      <td>3</td>\n",
       "      <td>735</td>\n",
       "      <td></td>\n",
       "      <td></td>\n",
       "      <td>2023-04-16</td>\n",
       "      <td>1.681633e+09</td>\n",
       "    </tr>\n",
       "    <tr>\n",
       "      <th>6</th>\n",
       "      <td>Учкудук</td>\n",
       "      <td>Узбекистан</td>\n",
       "      <td>1958</td>\n",
       "      <td></td>\n",
       "      <td>5</td>\n",
       "      <td>28000</td>\n",
       "      <td></td>\n",
       "      <td>210900</td>\n",
       "      <td>2023-04-16</td>\n",
       "      <td>1.681633e+09</td>\n",
       "    </tr>\n",
       "    <tr>\n",
       "      <th>7</th>\n",
       "      <td>Янгиабад</td>\n",
       "      <td>Узбекистан</td>\n",
       "      <td></td>\n",
       "      <td></td>\n",
       "      <td>5</td>\n",
       "      <td>900</td>\n",
       "      <td></td>\n",
       "      <td></td>\n",
       "      <td>2023-04-16</td>\n",
       "      <td>1.681633e+09</td>\n",
       "    </tr>\n",
       "  </tbody>\n",
       "</table>\n",
       "</div>"
      ],
      "text/plain": [
       "              city     Country Founded                   Climate  UTC  \\\n",
       "0           Москва      Россия    1147  умеренно континентальный    3   \n",
       "1  Санкт-Петербург      Россия    1703         умеренный морской    3   \n",
       "2             Омск      Россия    1716           континентальный    6   \n",
       "3        Тимашёвск      Россия    1794                 умеренный    3   \n",
       "4        Хельсинки   Финляндия    1550                              3   \n",
       "5        Икаалинен   Финляндия    1641                              3   \n",
       "6          Учкудук  Узбекистан    1958                              5   \n",
       "7         Янгиабад  Узбекистан                                      5   \n",
       "\n",
       "   Population    Phonecode        Postcode       Date     Timestamp  \n",
       "0    13097539  +7 495, 499   101000—135999 2023-04-16  1.681633e+09  \n",
       "1     5598486       +7 812  190000—199406. 2023-04-16  1.681633e+09  \n",
       "2     1125695      +7 3812   644000—644999 2023-04-16  1.681633e+09  \n",
       "3       51858     +7 86130   352700—352799 2023-04-16  1.681633e+09  \n",
       "4      656611       +358 9                 2023-04-16  1.681633e+09  \n",
       "5         735                              2023-04-16  1.681633e+09  \n",
       "6       28000                       210900 2023-04-16  1.681633e+09  \n",
       "7         900                              2023-04-16  1.681633e+09  "
      ]
     },
     "execution_count": 38,
     "metadata": {},
     "output_type": "execute_result"
    }
   ],
   "source": [
    "\n",
    "city_df"
   ]
  },
  {
   "cell_type": "code",
   "execution_count": null,
   "id": "71624d59",
   "metadata": {},
   "outputs": [],
   "source": []
  },
  {
   "cell_type": "code",
   "execution_count": null,
   "id": "ebd988af",
   "metadata": {},
   "outputs": [],
   "source": []
  },
  {
   "cell_type": "code",
   "execution_count": null,
   "id": "9d4168a7",
   "metadata": {},
   "outputs": [],
   "source": []
  },
  {
   "cell_type": "markdown",
   "id": "8e5a5187",
   "metadata": {},
   "source": [
    "#### Connecting to PostgreSQL Database using SQLAlchemy in Python"
   ]
  },
  {
   "cell_type": "code",
   "execution_count": 471,
   "id": "338b68d9",
   "metadata": {},
   "outputs": [],
   "source": [
    "# DEFINE THE DATABASE CREDENTIALS\n",
    "user = 'postgres'\n",
    "password = '123456'\n",
    "host = 'localhost'\n",
    "port = 5432\n",
    "database = 'db_test'"
   ]
  },
  {
   "cell_type": "code",
   "execution_count": 472,
   "id": "f900c672",
   "metadata": {
    "scrolled": true
   },
   "outputs": [],
   "source": [
    "# CONNECTION TO DB\n",
    "try:\n",
    "    con = psycopg2.connect (\n",
    "        host = host,\n",
    "        dbname = database,\n",
    "        user = user,\n",
    "        password = password,\n",
    "        port = port)\n",
    "    con.close()\n",
    "except Exception as error:\n",
    "    print(error)"
   ]
  },
  {
   "cell_type": "code",
   "execution_count": 473,
   "id": "e6e7b4b7",
   "metadata": {},
   "outputs": [],
   "source": [
    "# PYTHON FUNCTION TO CONNECT TO THE POSTGRESQL DATABASE AND\n",
    "# RETURN THE SQLACHEMY ENGINE OBJECT\n",
    "def get_connection():\n",
    "    return create_engine(\n",
    "        url=\"postgresql://{0}:{1}@{2}:{3}/{4}\".format(\n",
    "            user, password, host, port, database\n",
    "        )\n",
    "    )\n",
    " "
   ]
  },
  {
   "cell_type": "code",
   "execution_count": 474,
   "id": "19337b0d",
   "metadata": {},
   "outputs": [
    {
     "name": "stdout",
     "output_type": "stream",
     "text": [
      "Connection to the localhost for user postgres created successfully.\n"
     ]
    }
   ],
   "source": [
    "if __name__ == '__main__':\n",
    " \n",
    "    try:\n",
    "        # GET THE CONNECTION OBJECT (ENGINE) FOR THE DATABASE\n",
    "        engine = get_connection()\n",
    "        print(\n",
    "            f\"Connection to the {host} for user {user} created successfully.\")\n",
    "    except Exception as ex:\n",
    "        print(\"Connection could not be made due to the following error: \\n\", ex)"
   ]
  },
  {
   "cell_type": "code",
   "execution_count": 475,
   "id": "57f810b5",
   "metadata": {},
   "outputs": [],
   "source": [
    "# read the pandas dataframe\n",
    "data = city_df"
   ]
  },
  {
   "cell_type": "code",
   "execution_count": 476,
   "id": "b9c7fdd9",
   "metadata": {},
   "outputs": [
    {
     "data": {
      "text/plain": [
       "8"
      ]
     },
     "execution_count": 476,
     "metadata": {},
     "output_type": "execute_result"
    }
   ],
   "source": [
    "# connect the pandas dataframe with postgresql table\n",
    "data.to_sql('wiki_city', engine, if_exists='replace')"
   ]
  }
 ],
 "metadata": {
  "kernelspec": {
   "display_name": "Python 3 (ipykernel)",
   "language": "python",
   "name": "python3"
  },
  "language_info": {
   "codemirror_mode": {
    "name": "ipython",
    "version": 3
   },
   "file_extension": ".py",
   "mimetype": "text/x-python",
   "name": "python",
   "nbconvert_exporter": "python",
   "pygments_lexer": "ipython3",
   "version": "3.9.7"
  }
 },
 "nbformat": 4,
 "nbformat_minor": 5
}
